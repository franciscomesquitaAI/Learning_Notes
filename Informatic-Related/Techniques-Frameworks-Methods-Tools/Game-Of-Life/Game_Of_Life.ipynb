{
 "cells": [
  {
   "cell_type": "markdown",
   "id": "11c47e6d-8b44-418b-a598-25250adfaa21",
   "metadata": {},
   "source": [
    "# Game Of Life concept by John Conway"
   ]
  },
  {
   "cell_type": "markdown",
   "id": "4ccf8f87-6c2c-4d28-bf01-499f39de1b08",
   "metadata": {},
   "source": [
    "The Game of Life is a cellular automaton devised by the British mathematician John Horton Conway in 1970. It is the best-known example of a cellular automaton. The \"game\" is actually a zero-player game, meaning that its evolution is determined by its initial state, needing no input from human players. One interacts with the Game of Life by creating an initial configuration and observing how it evolves (https://conwaylife.com/).\n",
    "\n",
    "**Rules:**\n",
    "- Any live cell with fewer than two live neighbours dies (referred to as underpopulation).\n",
    "- Any live cell with more than three live neighbours dies (referred to as overpopulation).\n",
    "- Any live cell with two or three live neighbours lives, unchanged, to the next generation.\n",
    "- Any dead cell with exactly three live neighbours comes to life.\n",
    "\n",
    "The initial configuration of cells can be created by a human, but all generations thereafter are completely determined by the above rules. The goal of the game is to find patterns that evolve in interesting ways — something that people have now been doing for over 50 years. "
   ]
  },
  {
   "cell_type": "code",
   "execution_count": 1,
   "id": "8bcdc7a5-0f43-4f69-81a5-e5ab68edb55e",
   "metadata": {},
   "outputs": [
    {
     "name": "stdout",
     "output_type": "stream",
     "text": [
      "pygame 2.6.1 (SDL 2.28.4, Python 3.12.4)\n",
      "Hello from the pygame community. https://www.pygame.org/contribute.html\n"
     ]
    },
    {
     "name": "stderr",
     "output_type": "stream",
     "text": [
      "2025-02-04 18:53:51.838 python[1578:30129] +[IMKClient subclass]: chose IMKClient_Modern\n",
      "2025-02-04 18:53:51.838 python[1578:30129] +[IMKInputSession subclass]: chose IMKInputSession_Modern\n"
     ]
    }
   ],
   "source": [
    "import pygame\n",
    "import numpy as np\n",
    "\n",
    "# Configuration\n",
    "CELL_SIZE = 10  # Size of each cell\n",
    "GRID_WIDTH = 50  # Number of cells horizontally\n",
    "GRID_HEIGHT = 50  # Number of cells vertically\n",
    "FPS = 10  # Frames per second\n",
    "\n",
    "# Colors\n",
    "BLACK = (0, 0, 0)\n",
    "WHITE = (255, 255, 255)\n",
    "\n",
    "def initialize_grid(width, height):\n",
    "    \"\"\"Initialize a grid with random 0s and 1s.\"\"\"\n",
    "    return np.random.choice([0, 1], size=(height, width), p=[0.8, 0.2])\n",
    "\n",
    "def count_live_neighbors(grid, x, y):\n",
    "    \"\"\"Count live neighbors for a cell at (x, y).\"\"\"\n",
    "    rows, cols = grid.shape\n",
    "    neighbors = [\n",
    "        (-1, -1), (-1, 0), (-1, 1),\n",
    "        (0, -1),        (0, 1),\n",
    "        (1, -1), (1, 0), (1, 1)\n",
    "    ]\n",
    "    count = 0\n",
    "    for dx, dy in neighbors:\n",
    "        nx, ny = (x + dx) % rows, (y + dy) % cols  # Wrap around edges\n",
    "        count += grid[nx, ny]\n",
    "    return count\n",
    "\n",
    "def update_grid(grid):\n",
    "    \"\"\"Update the grid based on Conway's rules.\"\"\"\n",
    "    rows, cols = grid.shape\n",
    "    new_grid = grid.copy()\n",
    "    for x in range(rows):\n",
    "        for y in range(cols):\n",
    "            live_neighbors = count_live_neighbors(grid, x, y)\n",
    "            if grid[x, y] == 1 and (live_neighbors < 2 or live_neighbors > 3):\n",
    "                new_grid[x, y] = 0  # Cell dies\n",
    "            elif grid[x, y] == 0 and live_neighbors == 3:\n",
    "                new_grid[x, y] = 1  # Cell becomes alive\n",
    "    return new_grid\n",
    "\n",
    "def draw_grid(screen, grid):\n",
    "    \"\"\"Draw the grid on the pygame screen.\"\"\"\n",
    "    for x in range(grid.shape[0]):\n",
    "        for y in range(grid.shape[1]):\n",
    "            rect = pygame.Rect(y * CELL_SIZE, x * CELL_SIZE, CELL_SIZE, CELL_SIZE)\n",
    "            color = WHITE if grid[x, y] == 1 else BLACK\n",
    "            pygame.draw.rect(screen, color, rect)\n",
    "\n",
    "def run_game_of_life():\n",
    "    \"\"\"Main function to run Conway's Game of Life.\"\"\"\n",
    "    pygame.init()\n",
    "    screen = pygame.display.set_mode((GRID_WIDTH * CELL_SIZE, GRID_HEIGHT * CELL_SIZE))\n",
    "    pygame.display.set_caption(\"Conway's Game of Life\")\n",
    "    clock = pygame.time.Clock()\n",
    "\n",
    "    grid = initialize_grid(GRID_WIDTH, GRID_HEIGHT)\n",
    "\n",
    "    running = True\n",
    "    while running:\n",
    "        for event in pygame.event.get():\n",
    "            if event.type == pygame.QUIT:\n",
    "                running = False\n",
    "\n",
    "        grid = update_grid(grid)\n",
    "        screen.fill(BLACK)\n",
    "        draw_grid(screen, grid)\n",
    "        pygame.display.flip()\n",
    "        clock.tick(FPS)\n",
    "\n",
    "    pygame.quit()\n",
    "\n",
    "# Run the game\n",
    "if __name__ == \"__main__\":\n",
    "    run_game_of_life()"
   ]
  }
 ],
 "metadata": {
  "kernelspec": {
   "display_name": "General_Work",
   "language": "python",
   "name": "python3"
  },
  "language_info": {
   "codemirror_mode": {
    "name": "ipython",
    "version": 3
   },
   "file_extension": ".py",
   "mimetype": "text/x-python",
   "name": "python",
   "nbconvert_exporter": "python",
   "pygments_lexer": "ipython3",
   "version": "3.12.4"
  }
 },
 "nbformat": 4,
 "nbformat_minor": 5
}
